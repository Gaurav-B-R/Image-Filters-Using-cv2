{
  "nbformat": 4,
  "nbformat_minor": 0,
  "metadata": {
    "colab": {
      "provenance": []
    },
    "kernelspec": {
      "name": "python3",
      "display_name": "Python 3"
    },
    "language_info": {
      "name": "python"
    }
  },
  "cells": [
    {
      "cell_type": "code",
      "execution_count": null,
      "metadata": {
        "id": "Qs8GLVFKSjOd"
      },
      "outputs": [],
      "source": [
        "import cv2\n",
        "import numpy as np\n",
        "from google.colab.patches import cv2_imshow  # Importing cv2_imshow for Colab\n",
        "\n",
        "# Function to apply filters\n",
        "def apply_filters(image_path):\n",
        "    # Reading the image\n",
        "    image = cv2.imread(image_path)\n",
        "\n",
        "    # Checking if the image is loaded properly\n",
        "    if image is None:\n",
        "        print(\"Error loading image!\")\n",
        "        return\n",
        "\n",
        "    # Displaying the original image\n",
        "    cv2_imshow(image)\n",
        "\n",
        "    # 1. Grayscale Filter\n",
        "    gray_image = cv2.cvtColor(image, cv2.COLOR_BGR2GRAY)\n",
        "    cv2_imshow(gray_image)\n",
        "\n",
        "    # 2. Gaussian Blur Filter\n",
        "    gaussian_blur = cv2.GaussianBlur(image, (15, 15), 0)\n",
        "    cv2_imshow(gaussian_blur)\n",
        "\n",
        "    # 3. Edge Detection Filter (Canny)\n",
        "    edges = cv2.Canny(image, 100, 200)\n",
        "    cv2_imshow(edges)\n",
        "\n",
        "    # 4. Sepia Filter (Custom Kernel)\n",
        "    sepia_filter = np.array([[0.272, 0.534, 0.131],\n",
        "                             [0.349, 0.686, 0.168],\n",
        "                             [0.393, 0.769, 0.189]])\n",
        "    sepia_image = cv2.transform(image, sepia_filter)\n",
        "    sepia_image = np.clip(sepia_image, 0, 255)\n",
        "    cv2_imshow(sepia_image.astype(np.uint8))\n",
        "\n",
        "    # 5. Emboss Filter\n",
        "    kernel_emboss = np.array([[ -2, -1, 0],\n",
        "                              [ -1,  1, 1],\n",
        "                              [  0,  1, 2]])\n",
        "    emboss_image = cv2.filter2D(image, -1, kernel_emboss)\n",
        "    cv2_imshow(emboss_image)\n",
        "\n",
        "    # 6. Invert Colors Filter\n",
        "    invert_image = cv2.bitwise_not(image)\n",
        "    cv2_imshow(invert_image)\n",
        "\n",
        "\n",
        "image_path = 'image_path_here'\n",
        "\n",
        "# Apply filters to the image\n",
        "apply_filters(image_path)"
      ]
    }
  ]
}